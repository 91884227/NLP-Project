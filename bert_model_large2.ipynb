{
 "cells": [
  {
   "cell_type": "markdown",
   "metadata": {},
   "source": [
    "# import tool"
   ]
  },
  {
   "cell_type": "code",
   "execution_count": 1,
   "metadata": {},
   "outputs": [],
   "source": [
    "import os\n",
    "import numpy as np\n",
    "import pandas as pd\n",
    "\n",
    "import random\n",
    "import json\n",
    "from tqdm import tqdm\n",
    "import datetime\n",
    "from statistics import mean \n",
    "import pickle\n",
    "\n",
    "from IPython.display import clear_output\n",
    "# torch\n",
    "import torch\n",
    "import torch.nn as nn\n",
    "from torch.utils.data import DataLoader, RandomSampler, SequentialSampler\n",
    "from torch.utils.data import TensorDataset, random_split\n",
    "\n",
    "# bert\n",
    "from transformers import BertTokenizer, BertModel, BertForSequenceClassification\n",
    "clear_output()"
   ]
  },
  {
   "cell_type": "markdown",
   "metadata": {},
   "source": [
    "# import self define module"
   ]
  },
  {
   "cell_type": "code",
   "execution_count": 2,
   "metadata": {},
   "outputs": [],
   "source": [
    "from module.class_label_preprocessing import label_preprocess\n",
    "with open('./module/label_encoding.pkl' , 'rb') as input:\n",
    "    label_preprocessing = pickle.load(input)"
   ]
  },
  {
   "cell_type": "markdown",
   "metadata": {},
   "source": [
    "# Parameter"
   ]
  },
  {
   "cell_type": "code",
   "execution_count": 3,
   "metadata": {},
   "outputs": [],
   "source": [
    "PRETRAINED_MODEL_NAME = \"bert-large-cased\" # https://huggingface.co/transformers/pretrained_models.html\n",
    "\n",
    "BATCH_SIZE = 64\n",
    "EPOCHS = 50\n",
    "DEVICE = \"cuda: 1\"\n",
    "ifLIMIT = False\n",
    "MAX_LENGTH = 100\n",
    "ID = \"bert_large_2\""
   ]
  },
  {
   "cell_type": "markdown",
   "metadata": {},
   "source": [
    "# read data"
   ]
  },
  {
   "cell_type": "code",
   "execution_count": 4,
   "metadata": {},
   "outputs": [],
   "source": [
    "with open('./data/X_train.json') as json_file:\n",
    "    X_train = json.load(json_file)\n",
    "with open('./data/y_train.json') as json_file:\n",
    "    y_train = json.load(json_file)\n",
    "with open('./data/X_test.json') as json_file:\n",
    "    X_test = json.load(json_file)\n",
    "with open('./data/y_test.json') as json_file:\n",
    "    y_test = json.load(json_file)"
   ]
  },
  {
   "cell_type": "code",
   "execution_count": 5,
   "metadata": {},
   "outputs": [],
   "source": [
    "if( ifLIMIT ):\n",
    "    X_train = X_train[:100]\n",
    "    y_train = y_train[:100]\n",
    "    X_test = X_test[:100]\n",
    "    y_test = y_test[:100]"
   ]
  },
  {
   "cell_type": "code",
   "execution_count": 6,
   "metadata": {},
   "outputs": [
    {
     "data": {
      "text/plain": [
       "43"
      ]
     },
     "execution_count": 6,
     "metadata": {},
     "output_type": "execute_result"
    }
   ],
   "source": [
    "len(y_train[0])"
   ]
  },
  {
   "cell_type": "code",
   "execution_count": 7,
   "metadata": {},
   "outputs": [],
   "source": [
    "def create_data_loader(X, y, batch_size_):\n",
    "    X_text = [i[0] for i in X]\n",
    "    X_reply = [i[1] for i in X]\n",
    "    tokenizer = BertTokenizer.from_pretrained(PRETRAINED_MODEL_NAME)\n",
    "\n",
    "    buf = [tokenizer.encode_plus(i[0], i[1], do_lower_case = False, add_special_tokens = True, max_length = MAX_LENGTH, pad_to_max_length = True) for i in tqdm(X)]   \n",
    "    input_ids = torch.LongTensor( [i['input_ids'] for i in buf] )\n",
    "    token_type_ids = torch.LongTensor( [i['token_type_ids'] for i in buf])\n",
    "    attention_mask = torch.LongTensor( [i['attention_mask'] for i in buf])\n",
    "\n",
    "    label = torch.FloatTensor(y)\n",
    "\n",
    "    dataset = TensorDataset(input_ids, token_type_ids, attention_mask, label)\n",
    "    loader = torch.utils.data.DataLoader(dataset = dataset, batch_size = batch_size_, shuffle = True)\n",
    "\n",
    "    return(loader)"
   ]
  },
  {
   "cell_type": "code",
   "execution_count": 8,
   "metadata": {},
   "outputs": [
    {
     "name": "stderr",
     "output_type": "stream",
     "text": [
      "100%|██████████| 28800/28800 [00:12<00:00, 2335.07it/s]\n",
      "100%|██████████| 28800/28800 [00:12<00:00, 2307.37it/s]\n",
      "100%|██████████| 3200/3200 [00:01<00:00, 2360.36it/s]\n"
     ]
    }
   ],
   "source": [
    "train_loader = create_data_loader(X_train, y_train, batch_size_ = BATCH_SIZE)\n",
    "train_loader_1 = create_data_loader(X_train, y_train, batch_size_ = 1)\n",
    "test_loader = create_data_loader(X_test, y_test, batch_size_ = 1)"
   ]
  },
  {
   "cell_type": "code",
   "execution_count": 9,
   "metadata": {},
   "outputs": [],
   "source": [
    "# next(iter(train_loader))"
   ]
  },
  {
   "cell_type": "markdown",
   "metadata": {},
   "source": [
    "# model"
   ]
  },
  {
   "cell_type": "code",
   "execution_count": 10,
   "metadata": {},
   "outputs": [],
   "source": [
    "model = BertForSequenceClassification.from_pretrained(PRETRAINED_MODEL_NAME, \n",
    "                                                      num_labels = len(y_train[0]))\n",
    "model.to(DEVICE)\n",
    "clear_output()"
   ]
  },
  {
   "cell_type": "markdown",
   "metadata": {},
   "source": [
    "# optimizer"
   ]
  },
  {
   "cell_type": "code",
   "execution_count": 11,
   "metadata": {},
   "outputs": [],
   "source": [
    "LEARNING_RATE = 1e-5\n",
    "optimizer = torch.optim.Adam(model.parameters(), lr = LEARNING_RATE)"
   ]
  },
  {
   "cell_type": "markdown",
   "metadata": {},
   "source": [
    "# Loss"
   ]
  },
  {
   "cell_type": "code",
   "execution_count": 12,
   "metadata": {},
   "outputs": [],
   "source": [
    "loss_fn = nn.MSELoss(reduction='sum')"
   ]
  },
  {
   "cell_type": "markdown",
   "metadata": {},
   "source": [
    "# Loss_for_test"
   ]
  },
  {
   "cell_type": "code",
   "execution_count": 13,
   "metadata": {},
   "outputs": [],
   "source": [
    "# data_loader = test_loader"
   ]
  },
  {
   "cell_type": "code",
   "execution_count": 14,
   "metadata": {},
   "outputs": [],
   "source": [
    "def acc_for_update(data_loader):\n",
    "    buf = []\n",
    "    with torch.no_grad():  \n",
    "        for data in data_loader:\n",
    "            input_ids, token_type_ids, attention_mask, labels = [t.to(DEVICE) for t in data]\n",
    "\n",
    "            outputs = model(input_ids = input_ids, \n",
    "                                token_type_ids = token_type_ids, \n",
    "                                attention_mask = attention_mask) \n",
    "\n",
    "            predict_prop = list(outputs[0].cpu().detach().numpy()[0])\n",
    "            X = list(np.arange(len(predict_prop)))\n",
    "            X.sort(key=dict(zip(list(X), list(predict_prop))).get, reverse=True)\n",
    "\n",
    "            predict_label = X[:6]\n",
    "\n",
    "            true_label = list(np.where(data[3][0].numpy() == 1)[0])\n",
    "            buf = buf + [ [i in predict_label for i in true_label] ]\n",
    "            \n",
    "    return( mean([mean(i) for i in buf]) )"
   ]
  },
  {
   "cell_type": "markdown",
   "metadata": {},
   "source": [
    "# Start Training"
   ]
  },
  {
   "cell_type": "code",
   "execution_count": null,
   "metadata": {},
   "outputs": [
    {
     "name": "stdout",
     "output_type": "stream",
     "text": [
      "\n",
      "===EPOCH 1/50===\n",
      "2020-06-07 15:20:04\n",
      "running_loss: 50909.3655\n",
      "evaluation score for training set: 0.4137\n",
      "evaluation score for testing set: 0.4055\n",
      "save model : bert_large_2_model_4054\n",
      "\n",
      "===EPOCH 2/50===\n",
      "2020-06-07 15:38:16\n",
      "running_loss: 37882.6317\n",
      "evaluation score for training set: 0.4833\n",
      "evaluation score for testing set: 0.4618\n",
      "save model : bert_large_2_model_4618\n",
      "\n",
      "===EPOCH 3/50===\n",
      "2020-06-07 15:55:58\n",
      "running_loss: 36800.7956\n"
     ]
    }
   ],
   "source": [
    "state_of_the_art = 0\n",
    "for epoch in range(EPOCHS):\n",
    "    running_loss = 0.0\n",
    "    \n",
    "    for data in train_loader:    \n",
    "        input_ids, token_type_ids, attention_mask, labels = [t.to(DEVICE) for t in data]\n",
    "        \n",
    "        optimizer.zero_grad()\n",
    "        \n",
    "         # forward pass\n",
    "        outputs = model(input_ids = input_ids, \n",
    "                        token_type_ids = token_type_ids, \n",
    "                        attention_mask = attention_mask)          \n",
    "        \n",
    "        # loss\n",
    "        loss = loss_fn(outputs[0], labels)\n",
    "        # loss = loss_fn(torch.sigmoid(buf1), buf2)\n",
    "        \n",
    "        loss.backward()\n",
    "        optimizer.step()\n",
    "        running_loss = running_loss + loss.item()\n",
    "        \n",
    "    print(\"\\n===EPOCH %d/%d===\"% (epoch+1, EPOCHS))\n",
    "    print(datetime.datetime.now().strftime('%Y-%m-%d %H:%M:%S'))\n",
    "    print(\"running_loss: %.4f\" %  running_loss)\n",
    "    print(\"evaluation score for training set: %.4f\" % acc_for_update(train_loader_1))\n",
    "    \n",
    "    buf = acc_for_update(test_loader)\n",
    "    print(\"evaluation score for testing set: %.4f\" % buf)\n",
    "    \n",
    "    if( buf > state_of_the_art):\n",
    "        save_directory = \"%s_model_%d\" % (ID, buf*10000)\n",
    "        os.chdir(\"./model_save\") \n",
    "        os.mkdir(save_directory)\n",
    "        model.save_pretrained(save_directory)\n",
    "        os.chdir(\"..\")\n",
    "        \n",
    "        state_of_the_art = buf\n",
    "        print(\"save model : %s\" % save_directory)"
   ]
  }
 ],
 "metadata": {
  "kernelspec": {
   "display_name": "Python 3",
   "language": "python",
   "name": "python3"
  },
  "language_info": {
   "codemirror_mode": {
    "name": "ipython",
    "version": 3
   },
   "file_extension": ".py",
   "mimetype": "text/x-python",
   "name": "python",
   "nbconvert_exporter": "python",
   "pygments_lexer": "ipython3",
   "version": "3.7.7"
  }
 },
 "nbformat": 4,
 "nbformat_minor": 4
}
