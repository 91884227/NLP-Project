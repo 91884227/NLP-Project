{
 "cells": [
  {
   "cell_type": "markdown",
   "metadata": {},
   "source": [
    "# import tool"
   ]
  },
  {
   "cell_type": "code",
   "execution_count": 1,
   "metadata": {},
   "outputs": [],
   "source": [
    "import os\n",
    "import numpy as np\n",
    "import pandas as pd\n",
    "\n",
    "import random\n",
    "import json\n",
    "from tqdm import tqdm\n",
    "import datetime\n",
    "from statistics import mean \n",
    "import pickle\n",
    "\n",
    "from IPython.display import clear_output\n",
    "# torch\n",
    "import torch\n",
    "import torch.nn as nn\n",
    "from torch.utils.data import DataLoader, RandomSampler, SequentialSampler\n",
    "from torch.utils.data import TensorDataset, random_split\n",
    "\n",
    "# bert\n",
    "from transformers import BertTokenizer, BertModel, BertForSequenceClassification\n",
    "clear_output()"
   ]
  },
  {
   "cell_type": "markdown",
   "metadata": {},
   "source": [
    "# import self define module"
   ]
  },
  {
   "cell_type": "code",
   "execution_count": 2,
   "metadata": {},
   "outputs": [],
   "source": [
    "from module.class_label_preprocessing import label_preprocess\n",
    "with open('./module/label_encoding.pkl' , 'rb') as input:\n",
    "    label_preprocessing = pickle.load(input)"
   ]
  },
  {
   "cell_type": "markdown",
   "metadata": {},
   "source": [
    "# Parameter"
   ]
  },
  {
   "cell_type": "code",
   "execution_count": 3,
   "metadata": {},
   "outputs": [],
   "source": [
    "PRETRAINED_MODEL_NAME = \"bert-base-cased\" # https://huggingface.co/transformers/pretrained_models.html\n",
    "\n",
    "BATCH_SIZE = 64\n",
    "EPOCHS = 50\n",
    "DEVICE = \"cuda: 0\"\n",
    "ifLIMIT = False\n",
    "MAX_LENGTH = 100\n",
    "ID = \"bert_small_2\"\n",
    "# ID = \"bert_small_2\""
   ]
  },
  {
   "cell_type": "markdown",
   "metadata": {},
   "source": [
    "# read data"
   ]
  },
  {
   "cell_type": "code",
   "execution_count": 4,
   "metadata": {},
   "outputs": [],
   "source": [
    "with open('./data/X_train.json') as json_file:\n",
    "    X_train = json.load(json_file)\n",
    "with open('./data/y_train.json') as json_file:\n",
    "    y_train = json.load(json_file)\n",
    "with open('./data/X_test.json') as json_file:\n",
    "    X_test = json.load(json_file)\n",
    "with open('./data/y_test.json') as json_file:\n",
    "    y_test = json.load(json_file)"
   ]
  },
  {
   "cell_type": "code",
   "execution_count": 5,
   "metadata": {},
   "outputs": [],
   "source": [
    "if( ifLIMIT ):\n",
    "    X_train = X_train[:100]\n",
    "    y_train = y_train[:100]\n",
    "    X_test = X_test[:100]\n",
    "    y_test = y_test[:100]"
   ]
  },
  {
   "cell_type": "code",
   "execution_count": 6,
   "metadata": {},
   "outputs": [
    {
     "data": {
      "text/plain": [
       "43"
      ]
     },
     "execution_count": 6,
     "metadata": {},
     "output_type": "execute_result"
    }
   ],
   "source": [
    "len(y_train[0])"
   ]
  },
  {
   "cell_type": "code",
   "execution_count": 7,
   "metadata": {},
   "outputs": [],
   "source": [
    "def create_data_loader(X, y, batch_size_):\n",
    "    X_text = [i[0] for i in X]\n",
    "    X_reply = [i[1] for i in X]\n",
    "    tokenizer = BertTokenizer.from_pretrained(PRETRAINED_MODEL_NAME)\n",
    "\n",
    "    buf = [tokenizer.encode_plus(i[0], i[1], do_lower_case = False, add_special_tokens = True, max_length = MAX_LENGTH, pad_to_max_length = True) for i in tqdm(X)]   \n",
    "    input_ids = torch.LongTensor( [i['input_ids'] for i in buf] )\n",
    "    token_type_ids = torch.LongTensor( [i['token_type_ids'] for i in buf])\n",
    "    attention_mask = torch.LongTensor( [i['attention_mask'] for i in buf])\n",
    "\n",
    "    label = torch.FloatTensor(y)\n",
    "\n",
    "    dataset = TensorDataset(input_ids, token_type_ids, attention_mask, label)\n",
    "    loader = torch.utils.data.DataLoader(dataset = dataset, batch_size = batch_size_, shuffle = True)\n",
    "\n",
    "    return(loader)"
   ]
  },
  {
   "cell_type": "code",
   "execution_count": 8,
   "metadata": {},
   "outputs": [
    {
     "name": "stderr",
     "output_type": "stream",
     "text": [
      "100%|██████████| 28800/28800 [00:12<00:00, 2356.84it/s]\n",
      "100%|██████████| 28800/28800 [00:12<00:00, 2329.40it/s]\n",
      "100%|██████████| 3200/3200 [00:01<00:00, 2362.07it/s]\n"
     ]
    }
   ],
   "source": [
    "train_loader = create_data_loader(X_train, y_train, batch_size_ = BATCH_SIZE)\n",
    "train_loader_1 = create_data_loader(X_train, y_train, batch_size_ = 1)\n",
    "test_loader = create_data_loader(X_test, y_test, batch_size_ = 1)"
   ]
  },
  {
   "cell_type": "code",
   "execution_count": 9,
   "metadata": {},
   "outputs": [],
   "source": [
    "# next(iter(train_loader))"
   ]
  },
  {
   "cell_type": "markdown",
   "metadata": {},
   "source": [
    "# model"
   ]
  },
  {
   "cell_type": "code",
   "execution_count": 10,
   "metadata": {},
   "outputs": [],
   "source": [
    "model = BertForSequenceClassification.from_pretrained(PRETRAINED_MODEL_NAME, \n",
    "                                                      num_labels = len(y_train[0]))\n",
    "model.to(DEVICE)\n",
    "clear_output()"
   ]
  },
  {
   "cell_type": "markdown",
   "metadata": {},
   "source": [
    "# optimizer"
   ]
  },
  {
   "cell_type": "code",
   "execution_count": 11,
   "metadata": {},
   "outputs": [],
   "source": [
    "LEARNING_RATE = 1e-5\n",
    "optimizer = torch.optim.Adam(model.parameters(), lr = LEARNING_RATE)"
   ]
  },
  {
   "cell_type": "markdown",
   "metadata": {},
   "source": [
    "# Loss"
   ]
  },
  {
   "cell_type": "code",
   "execution_count": 12,
   "metadata": {},
   "outputs": [],
   "source": [
    "loss_fn = nn.MSELoss(reduction='sum')"
   ]
  },
  {
   "cell_type": "markdown",
   "metadata": {},
   "source": [
    "# Loss_for_test"
   ]
  },
  {
   "cell_type": "code",
   "execution_count": 13,
   "metadata": {},
   "outputs": [],
   "source": [
    "# data_loader = test_loader"
   ]
  },
  {
   "cell_type": "code",
   "execution_count": 14,
   "metadata": {},
   "outputs": [],
   "source": [
    "def acc_for_update(data_loader):\n",
    "    buf = []\n",
    "    with torch.no_grad():  \n",
    "        for data in data_loader:\n",
    "            input_ids, token_type_ids, attention_mask, labels = [t.to(DEVICE) for t in data]\n",
    "\n",
    "            outputs = model(input_ids = input_ids, \n",
    "                                token_type_ids = token_type_ids, \n",
    "                                attention_mask = attention_mask) \n",
    "\n",
    "            predict_prop = list(outputs[0].cpu().detach().numpy()[0])\n",
    "            X = list(np.arange(len(predict_prop)))\n",
    "            X.sort(key=dict(zip(list(X), list(predict_prop))).get, reverse=True)\n",
    "\n",
    "            predict_label = X[:6]\n",
    "\n",
    "            true_label = list(np.where(data[3][0].numpy() == 1)[0])\n",
    "            buf = buf + [ [i in predict_label for i in true_label] ]\n",
    "            \n",
    "    return( mean([mean(i) for i in buf]) )"
   ]
  },
  {
   "cell_type": "markdown",
   "metadata": {},
   "source": [
    "# Start Training"
   ]
  },
  {
   "cell_type": "code",
   "execution_count": 15,
   "metadata": {
    "scrolled": true
   },
   "outputs": [
    {
     "name": "stdout",
     "output_type": "stream",
     "text": [
      "\n",
      "===EPOCH 1/50===\n",
      "2020-06-07 14:42:17\n",
      "running_loss: 44507.2434\n",
      "evaluation score for training set: 0.4554\n",
      "evaluation score for testing set: 0.4406\n",
      "save model : bert_small_2_model_4405\n",
      "\n",
      "===EPOCH 2/50===\n",
      "2020-06-07 14:49:37\n",
      "running_loss: 37292.9879\n",
      "evaluation score for training set: 0.5056\n",
      "evaluation score for testing set: 0.4748\n",
      "save model : bert_small_2_model_4748\n",
      "\n",
      "===EPOCH 3/50===\n",
      "2020-06-07 14:56:55\n",
      "running_loss: 36258.2234\n",
      "evaluation score for training set: 0.5425\n",
      "evaluation score for testing set: 0.4785\n",
      "save model : bert_small_2_model_4785\n",
      "\n",
      "===EPOCH 4/50===\n",
      "2020-06-07 15:04:11\n",
      "running_loss: 35195.1663\n",
      "evaluation score for training set: 0.6192\n",
      "evaluation score for testing set: 0.5082\n",
      "save model : bert_small_2_model_5081\n",
      "\n",
      "===EPOCH 5/50===\n",
      "2020-06-07 15:12:18\n",
      "running_loss: 33556.0183\n",
      "evaluation score for training set: 0.6861\n",
      "evaluation score for testing set: 0.5032\n",
      "\n",
      "===EPOCH 6/50===\n",
      "2020-06-07 15:19:49\n",
      "running_loss: 30626.7652\n",
      "evaluation score for training set: 0.7647\n",
      "evaluation score for testing set: 0.4876\n",
      "\n",
      "===EPOCH 7/50===\n",
      "2020-06-07 15:27:22\n",
      "running_loss: 27053.9140\n",
      "evaluation score for training set: 0.8334\n",
      "evaluation score for testing set: 0.4454\n",
      "\n",
      "===EPOCH 8/50===\n",
      "2020-06-07 15:34:56\n",
      "running_loss: 23673.3116\n",
      "evaluation score for training set: 0.8924\n",
      "evaluation score for testing set: 0.4401\n"
     ]
    },
    {
     "ename": "KeyboardInterrupt",
     "evalue": "",
     "output_type": "error",
     "traceback": [
      "\u001b[0;31m---------------------------------------------------------------------------\u001b[0m",
      "\u001b[0;31mKeyboardInterrupt\u001b[0m                         Traceback (most recent call last)",
      "\u001b[0;32m<ipython-input-15-9bdcc6be05dd>\u001b[0m in \u001b[0;36m<module>\u001b[0;34m\u001b[0m\n\u001b[1;32m     17\u001b[0m         \u001b[0;31m# loss = loss_fn(torch.sigmoid(buf1), buf2)\u001b[0m\u001b[0;34m\u001b[0m\u001b[0;34m\u001b[0m\u001b[0;34m\u001b[0m\u001b[0m\n\u001b[1;32m     18\u001b[0m \u001b[0;34m\u001b[0m\u001b[0m\n\u001b[0;32m---> 19\u001b[0;31m         \u001b[0mloss\u001b[0m\u001b[0;34m.\u001b[0m\u001b[0mbackward\u001b[0m\u001b[0;34m(\u001b[0m\u001b[0;34m)\u001b[0m\u001b[0;34m\u001b[0m\u001b[0;34m\u001b[0m\u001b[0m\n\u001b[0m\u001b[1;32m     20\u001b[0m         \u001b[0moptimizer\u001b[0m\u001b[0;34m.\u001b[0m\u001b[0mstep\u001b[0m\u001b[0;34m(\u001b[0m\u001b[0;34m)\u001b[0m\u001b[0;34m\u001b[0m\u001b[0;34m\u001b[0m\u001b[0m\n\u001b[1;32m     21\u001b[0m         \u001b[0mrunning_loss\u001b[0m \u001b[0;34m=\u001b[0m \u001b[0mrunning_loss\u001b[0m \u001b[0;34m+\u001b[0m \u001b[0mloss\u001b[0m\u001b[0;34m.\u001b[0m\u001b[0mitem\u001b[0m\u001b[0;34m(\u001b[0m\u001b[0;34m)\u001b[0m\u001b[0;34m\u001b[0m\u001b[0;34m\u001b[0m\u001b[0m\n",
      "\u001b[0;32m~/.conda/envs/py3.7/lib/python3.7/site-packages/torch/tensor.py\u001b[0m in \u001b[0;36mbackward\u001b[0;34m(self, gradient, retain_graph, create_graph)\u001b[0m\n\u001b[1;32m    193\u001b[0m                 \u001b[0mproducts\u001b[0m\u001b[0;34m.\u001b[0m \u001b[0mDefaults\u001b[0m \u001b[0mto\u001b[0m\u001b[0;31m \u001b[0m\u001b[0;31m`\u001b[0m\u001b[0;31m`\u001b[0m\u001b[0;32mFalse\u001b[0m\u001b[0;31m`\u001b[0m\u001b[0;31m`\u001b[0m\u001b[0;34m.\u001b[0m\u001b[0;34m\u001b[0m\u001b[0;34m\u001b[0m\u001b[0m\n\u001b[1;32m    194\u001b[0m         \"\"\"\n\u001b[0;32m--> 195\u001b[0;31m         \u001b[0mtorch\u001b[0m\u001b[0;34m.\u001b[0m\u001b[0mautograd\u001b[0m\u001b[0;34m.\u001b[0m\u001b[0mbackward\u001b[0m\u001b[0;34m(\u001b[0m\u001b[0mself\u001b[0m\u001b[0;34m,\u001b[0m \u001b[0mgradient\u001b[0m\u001b[0;34m,\u001b[0m \u001b[0mretain_graph\u001b[0m\u001b[0;34m,\u001b[0m \u001b[0mcreate_graph\u001b[0m\u001b[0;34m)\u001b[0m\u001b[0;34m\u001b[0m\u001b[0;34m\u001b[0m\u001b[0m\n\u001b[0m\u001b[1;32m    196\u001b[0m \u001b[0;34m\u001b[0m\u001b[0m\n\u001b[1;32m    197\u001b[0m     \u001b[0;32mdef\u001b[0m \u001b[0mregister_hook\u001b[0m\u001b[0;34m(\u001b[0m\u001b[0mself\u001b[0m\u001b[0;34m,\u001b[0m \u001b[0mhook\u001b[0m\u001b[0;34m)\u001b[0m\u001b[0;34m:\u001b[0m\u001b[0;34m\u001b[0m\u001b[0;34m\u001b[0m\u001b[0m\n",
      "\u001b[0;32m~/.conda/envs/py3.7/lib/python3.7/site-packages/torch/autograd/__init__.py\u001b[0m in \u001b[0;36mbackward\u001b[0;34m(tensors, grad_tensors, retain_graph, create_graph, grad_variables)\u001b[0m\n\u001b[1;32m     97\u001b[0m     Variable._execution_engine.run_backward(\n\u001b[1;32m     98\u001b[0m         \u001b[0mtensors\u001b[0m\u001b[0;34m,\u001b[0m \u001b[0mgrad_tensors\u001b[0m\u001b[0;34m,\u001b[0m \u001b[0mretain_graph\u001b[0m\u001b[0;34m,\u001b[0m \u001b[0mcreate_graph\u001b[0m\u001b[0;34m,\u001b[0m\u001b[0;34m\u001b[0m\u001b[0;34m\u001b[0m\u001b[0m\n\u001b[0;32m---> 99\u001b[0;31m         allow_unreachable=True)  # allow_unreachable flag\n\u001b[0m\u001b[1;32m    100\u001b[0m \u001b[0;34m\u001b[0m\u001b[0m\n\u001b[1;32m    101\u001b[0m \u001b[0;34m\u001b[0m\u001b[0m\n",
      "\u001b[0;31mKeyboardInterrupt\u001b[0m: "
     ]
    }
   ],
   "source": [
    "state_of_the_art = 0\n",
    "for epoch in range(EPOCHS):\n",
    "    running_loss = 0.0\n",
    "    \n",
    "    for data in train_loader:    \n",
    "        input_ids, token_type_ids, attention_mask, labels = [t.to(DEVICE) for t in data]\n",
    "        \n",
    "        optimizer.zero_grad()\n",
    "        \n",
    "         # forward pass\n",
    "        outputs = model(input_ids = input_ids, \n",
    "                        token_type_ids = token_type_ids, \n",
    "                        attention_mask = attention_mask)          \n",
    "        \n",
    "        # loss\n",
    "        loss = loss_fn(outputs[0], labels)\n",
    "        # loss = loss_fn(torch.sigmoid(buf1), buf2)\n",
    "        \n",
    "        loss.backward()\n",
    "        optimizer.step()\n",
    "        running_loss = running_loss + loss.item()\n",
    "        \n",
    "    print(\"\\n===EPOCH %d/%d===\"% (epoch+1, EPOCHS))\n",
    "    print(datetime.datetime.now().strftime('%Y-%m-%d %H:%M:%S'))\n",
    "    print(\"running_loss: %.4f\" %  running_loss)\n",
    "    print(\"evaluation score for training set: %.4f\" % acc_for_update(train_loader_1))\n",
    "    \n",
    "    buf = acc_for_update(test_loader)\n",
    "    print(\"evaluation score for testing set: %.4f\" % buf)\n",
    "    \n",
    "    if( buf > state_of_the_art):\n",
    "        save_directory = \"%s_model_%d\" % (ID, buf*10000)\n",
    "        os.chdir(\"./model_save\") \n",
    "        os.mkdir(save_directory)\n",
    "        model.save_pretrained(save_directory)\n",
    "        os.chdir(\"..\")\n",
    "        \n",
    "        state_of_the_art = buf\n",
    "        print(\"save model : %s\" % save_directory)"
   ]
  },
  {
   "cell_type": "code",
   "execution_count": 17,
   "metadata": {},
   "outputs": [
    {
     "data": {
      "text/plain": [
       "(tensor([[ 0.0120,  0.9647, -0.0123,  ...,  0.1735,  0.0359,  0.0260],\n",
       "         [-0.1635, -0.0770,  0.0909,  ...,  0.0315, -0.0191, -0.0107],\n",
       "         [ 0.0544, -0.0186, -0.0055,  ..., -0.1053,  0.0413, -0.0354],\n",
       "         ...,\n",
       "         [ 0.0374,  0.8140,  0.0128,  ..., -0.0098,  0.0104,  0.0189],\n",
       "         [-0.0898, -0.0615, -0.0246,  ...,  0.1319,  0.0180,  0.0339],\n",
       "         [-0.0114,  0.0157, -0.0740,  ..., -0.0287, -0.0165, -0.0801]],\n",
       "        device='cuda:0', grad_fn=<AddmmBackward>),)"
      ]
     },
     "execution_count": 17,
     "metadata": {},
     "output_type": "execute_result"
    }
   ],
   "source": [
    "model(input_ids = input_ids, \n",
    "                        token_type_ids = token_type_ids, \n",
    "                        attention_mask = attention_mask) "
   ]
  },
  {
   "cell_type": "code",
   "execution_count": 18,
   "metadata": {},
   "outputs": [
    {
     "data": {
      "text/plain": [
       "tensor([[0., 1., 0.,  ..., 1., 0., 0.],\n",
       "        [0., 0., 0.,  ..., 0., 0., 0.],\n",
       "        [0., 0., 0.,  ..., 0., 0., 0.],\n",
       "        ...,\n",
       "        [0., 1., 0.,  ..., 0., 0., 0.],\n",
       "        [0., 0., 0.,  ..., 0., 0., 0.],\n",
       "        [0., 0., 0.,  ..., 0., 0., 0.]], device='cuda:0')"
      ]
     },
     "execution_count": 18,
     "metadata": {},
     "output_type": "execute_result"
    }
   ],
   "source": [
    "labels"
   ]
  },
  {
   "cell_type": "code",
   "execution_count": null,
   "metadata": {},
   "outputs": [],
   "source": []
  }
 ],
 "metadata": {
  "kernelspec": {
   "display_name": "Python 3",
   "language": "python",
   "name": "python3"
  },
  "language_info": {
   "codemirror_mode": {
    "name": "ipython",
    "version": 3
   },
   "file_extension": ".py",
   "mimetype": "text/x-python",
   "name": "python",
   "nbconvert_exporter": "python",
   "pygments_lexer": "ipython3",
   "version": "3.7.7"
  }
 },
 "nbformat": 4,
 "nbformat_minor": 4
}
