{
 "cells": [
  {
   "cell_type": "code",
   "execution_count": 1,
   "metadata": {},
   "outputs": [],
   "source": [
    "from sklearn.preprocessing import MultiLabelBinarizer\n",
    "class label_preprocess:\n",
    "    def __init__(self, list_):\n",
    "        self.mlb = MultiLabelBinarizer()\n",
    "        self.mlb.fit(categories)\n",
    "    \n",
    "    def encode(self, list_):\n",
    "        return( list( self.mlb.transform([ list_ ])[0] ) )\n",
    "    \n",
    "    def decode(self, list_):\n",
    "        buf = self.mlb.inverse_transform(np.array(list_).reshape(1, len(self.mlb.classes_)))[0]\n",
    "        return( buf )"
   ]
  }
 ],
 "metadata": {
  "kernelspec": {
   "display_name": "Python 3",
   "language": "python",
   "name": "python3"
  },
  "language_info": {
   "codemirror_mode": {
    "name": "ipython",
    "version": 3
   },
   "file_extension": ".py",
   "mimetype": "text/x-python",
   "name": "python",
   "nbconvert_exporter": "python",
   "pygments_lexer": "ipython3",
   "version": "3.7.7"
  }
 },
 "nbformat": 4,
 "nbformat_minor": 4
}
